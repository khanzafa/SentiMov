{
 "cells": [
  {
   "cell_type": "code",
   "execution_count": 98,
   "metadata": {},
   "outputs": [],
   "source": [
    "import pandas as pd\n",
    "from sklearn.model_selection import train_test_split\n",
    "from sklearn.feature_extraction.text import TfidfVectorizer\n",
    "from sklearn.naive_bayes import MultinomialNB\n",
    "from sklearn.metrics import accuracy_score, classification_report\n",
    "from bs4 import BeautifulSoup\n",
    "import re\n",
    "import nltk\n",
    "from nltk.corpus import stopwords\n",
    "from nltk.tokenize import word_tokenize\n",
    "from nltk.stem import WordNetLemmatizer\n",
    "from nltk.stem import PorterStemmer\n",
    "from sklearn.pipeline import Pipeline, make_pipeline\n",
    "from sklearn.model_selection import GridSearchCV\n",
    "from sklearn.feature_extraction.text import CountVectorizer\n",
    "from sklearn.ensemble import RandomForestClassifier\n",
    "from sklearn.svm import SVC\n",
    "from sklearn.linear_model import LogisticRegression\n",
    "from sklearn.metrics import confusion_matrix\n",
    "from sklearn.metrics import classification_report\n",
    "import matplotlib.pyplot as plt\n",
    "import seaborn as sns\n",
    "import numpy as np\n",
    "import pickle\n",
    "from sklearn.preprocessing import LabelBinarizer"
   ]
  },
  {
   "cell_type": "code",
   "execution_count": 14,
   "metadata": {},
   "outputs": [
    {
     "name": "stderr",
     "output_type": "stream",
     "text": [
      "[nltk_data] Downloading package stopwords to\n",
      "[nltk_data]     C:\\Users\\khanza\\AppData\\Roaming\\nltk_data...\n",
      "[nltk_data]   Package stopwords is already up-to-date!\n",
      "[nltk_data] Downloading package punkt to\n",
      "[nltk_data]     C:\\Users\\khanza\\AppData\\Roaming\\nltk_data...\n",
      "[nltk_data]   Package punkt is already up-to-date!\n",
      "[nltk_data] Downloading package wordnet to\n",
      "[nltk_data]     C:\\Users\\khanza\\AppData\\Roaming\\nltk_data...\n",
      "[nltk_data]   Package wordnet is already up-to-date!\n"
     ]
    },
    {
     "data": {
      "text/plain": [
       "True"
      ]
     },
     "execution_count": 14,
     "metadata": {},
     "output_type": "execute_result"
    }
   ],
   "source": [
    "nltk.download('stopwords')\n",
    "nltk.download('punkt')\n",
    "nltk.download('wordnet')"
   ]
  },
  {
   "cell_type": "code",
   "execution_count": 89,
   "metadata": {},
   "outputs": [],
   "source": [
    "# Dataset IMDB\n",
    "imdb_data = pd.read_csv('IMDB Dataset.csv')"
   ]
  },
  {
   "cell_type": "code",
   "execution_count": 90,
   "metadata": {},
   "outputs": [
    {
     "data": {
      "text/html": [
       "<div>\n",
       "<style scoped>\n",
       "    .dataframe tbody tr th:only-of-type {\n",
       "        vertical-align: middle;\n",
       "    }\n",
       "\n",
       "    .dataframe tbody tr th {\n",
       "        vertical-align: top;\n",
       "    }\n",
       "\n",
       "    .dataframe thead th {\n",
       "        text-align: right;\n",
       "    }\n",
       "</style>\n",
       "<table border=\"1\" class=\"dataframe\">\n",
       "  <thead>\n",
       "    <tr style=\"text-align: right;\">\n",
       "      <th></th>\n",
       "      <th>review</th>\n",
       "      <th>sentiment</th>\n",
       "    </tr>\n",
       "  </thead>\n",
       "  <tbody>\n",
       "    <tr>\n",
       "      <th>count</th>\n",
       "      <td>50000</td>\n",
       "      <td>50000</td>\n",
       "    </tr>\n",
       "    <tr>\n",
       "      <th>unique</th>\n",
       "      <td>49582</td>\n",
       "      <td>2</td>\n",
       "    </tr>\n",
       "    <tr>\n",
       "      <th>top</th>\n",
       "      <td>Loved today's show!!! It was a variety and not...</td>\n",
       "      <td>positive</td>\n",
       "    </tr>\n",
       "    <tr>\n",
       "      <th>freq</th>\n",
       "      <td>5</td>\n",
       "      <td>25000</td>\n",
       "    </tr>\n",
       "  </tbody>\n",
       "</table>\n",
       "</div>"
      ],
      "text/plain": [
       "                                                   review sentiment\n",
       "count                                               50000     50000\n",
       "unique                                              49582         2\n",
       "top     Loved today's show!!! It was a variety and not...  positive\n",
       "freq                                                    5     25000"
      ]
     },
     "execution_count": 90,
     "metadata": {},
     "output_type": "execute_result"
    }
   ],
   "source": [
    "imdb_data.describe()"
   ]
  },
  {
   "cell_type": "code",
   "execution_count": 91,
   "metadata": {},
   "outputs": [
    {
     "name": "stderr",
     "output_type": "stream",
     "text": [
      "C:\\Users\\khanza\\AppData\\Local\\Temp\\ipykernel_19920\\2811823144.py:6: MarkupResemblesLocatorWarning: The input looks more like a filename than markup. You may want to open this file and pass the filehandle into Beautiful Soup.\n",
      "  soup = BeautifulSoup(text, \"html.parser\")\n"
     ]
    }
   ],
   "source": [
    "tokenizer = nltk.RegexpTokenizer(r'\\w+')\n",
    "stopword_list = stopwords.words('english')\n",
    "lemmatizer = WordNetLemmatizer()\n",
    "\n",
    "def strip_html(text):\n",
    "    soup = BeautifulSoup(text, \"html.parser\")\n",
    "    return soup.get_text()\n",
    "\n",
    "def remove_between_square_brackets(text):\n",
    "    return re.sub(r'\\[[^]]*\\]', '', text)\n",
    "\n",
    "def denoise_text(text):\n",
    "    text = strip_html(text)\n",
    "    text = remove_between_square_brackets(text)\n",
    "    return text\n",
    "\n",
    "def remove_special_characters(text, remove_digits=True):\n",
    "    pattern = r'[^a-zA-Z0-9\\s]' if remove_digits else r'[^a-zA-Z\\s]'\n",
    "    return re.sub(pattern, '', text)\n",
    "\n",
    "def lemmatize_text(text):\n",
    "    return ' '.join([lemmatizer.lemmatize(word) for word in text.split()])\n",
    "\n",
    "def remove_stopwords(text):\n",
    "    tokens = tokenizer.tokenize(text)\n",
    "    tokens = [token.strip() for token in tokens]\n",
    "    filtered_tokens = [token for token in tokens if token.lower() not in stopword_list]\n",
    "    return ' '.join(filtered_tokens)\n",
    "\n",
    "def preprocess_text(text):\n",
    "    text = denoise_text(text)\n",
    "    text = remove_special_characters(text)\n",
    "    text = lemmatize_text(text)\n",
    "    text = remove_stopwords(text)\n",
    "    return text\n",
    "\n",
    "# Apply the preprocessing function to the dataset\n",
    "imdb_data['review'] = imdb_data['review'].apply(preprocess_text)"
   ]
  },
  {
   "cell_type": "code",
   "execution_count": 92,
   "metadata": {},
   "outputs": [],
   "source": [
    "norm_train_reviews = imdb_data.review[:25000]\n",
    "norm_test_reviews = imdb_data.review[25000:]"
   ]
  },
  {
   "cell_type": "code",
   "execution_count": 93,
   "metadata": {},
   "outputs": [
    {
     "name": "stdout",
     "output_type": "stream",
     "text": [
      "Tfidf_train: (25000, 1767)\n",
      "Tfidf_test: (25000, 1767)\n"
     ]
    }
   ],
   "source": [
    "tv = TfidfVectorizer(min_df=0.01, max_df=0.9, ngram_range=(1, 2), use_idf=True)\n",
    "tv_train_reviews = tv.fit_transform(norm_train_reviews)\n",
    "tv_test_reviews = tv.transform(norm_test_reviews)\n",
    "\n",
    "print('Tfidf_train:', tv_train_reviews.shape)\n",
    "print('Tfidf_test:', tv_test_reviews.shape)"
   ]
  },
  {
   "cell_type": "code",
   "execution_count": 94,
   "metadata": {},
   "outputs": [
    {
     "name": "stdout",
     "output_type": "stream",
     "text": [
      "(50000, 1)\n",
      "(25000, 1)\n",
      "(25000, 1)\n"
     ]
    }
   ],
   "source": [
    "lb = LabelBinarizer()\n",
    "sentiment_data = lb.fit_transform(imdb_data['sentiment'])\n",
    "print(sentiment_data.shape)\n",
    "\n",
    "# Split sentiment data\n",
    "train_sentiments = sentiment_data[:25000]\n",
    "test_sentiments = sentiment_data[25000:]\n",
    "print(train_sentiments.shape)\n",
    "print(test_sentiments.shape)"
   ]
  },
  {
   "cell_type": "code",
   "execution_count": 95,
   "metadata": {},
   "outputs": [
    {
     "name": "stdout",
     "output_type": "stream",
     "text": [
      "Akurasi TF-IDF: 0.84524\n",
      "Laporan Klasifikasi TF-IDF:\n",
      "              precision    recall  f1-score   support\n",
      "\n",
      "           0       0.86      0.83      0.84     12474\n",
      "           1       0.83      0.86      0.85     12526\n",
      "\n",
      "    accuracy                           0.85     25000\n",
      "   macro avg       0.85      0.85      0.85     25000\n",
      "weighted avg       0.85      0.85      0.85     25000\n",
      "\n"
     ]
    }
   ],
   "source": [
    "from sklearn.naive_bayes import MultinomialNB\n",
    "from sklearn.metrics import accuracy_score, classification_report\n",
    "\n",
    "# Menggunakan TF-IDF\n",
    "model_tfidf = MultinomialNB()\n",
    "model_tfidf.fit(tv_train_reviews, train_sentiments.ravel())\n",
    "y_pred_tfidf = model_tfidf.predict(tv_test_reviews)\n",
    "print('Akurasi TF-IDF:', accuracy_score(test_sentiments, y_pred_tfidf))\n",
    "print('Laporan Klasifikasi TF-IDF:')\n",
    "print(classification_report(test_sentiments, y_pred_tfidf))"
   ]
  },
  {
   "cell_type": "code",
   "execution_count": 101,
   "metadata": {},
   "outputs": [
    {
     "name": "stdout",
     "output_type": "stream",
     "text": [
      "Akurasi: 0.84524\n",
      "Laporan Klasifikasi:\n",
      "              precision    recall  f1-score   support\n",
      "\n",
      "           0       0.86      0.83      0.84     12474\n",
      "           1       0.83      0.86      0.85     12526\n",
      "\n",
      "    accuracy                           0.85     25000\n",
      "   macro avg       0.85      0.85      0.85     25000\n",
      "weighted avg       0.85      0.85      0.85     25000\n",
      "\n"
     ]
    }
   ],
   "source": [
    "model = make_pipeline(TfidfVectorizer(min_df=0.01, max_df=0.9, ngram_range=(1, 2), use_idf=True), MultinomialNB())\n",
    "model.fit(norm_train_reviews, train_sentiments.ravel())\n",
    "y_pred = model.predict(norm_test_reviews)\n",
    "print('Akurasi:', accuracy_score(test_sentiments, y_pred))\n",
    "print('Laporan Klasifikasi:')\n",
    "print(classification_report(test_sentiments, y_pred))"
   ]
  },
  {
   "cell_type": "code",
   "execution_count": 102,
   "metadata": {},
   "outputs": [],
   "source": [
    "import pickle\n",
    "\n",
    "# Save the model and vectorizer\n",
    "with open('model.pkl', 'wb') as model_file:\n",
    "    pickle.dump(model_tfidf, model_file)\n",
    "\n",
    "with open('vectorizer.pkl', 'wb') as vectorizer_file:\n",
    "    pickle.dump(tv, vectorizer_file)\n"
   ]
  },
  {
   "cell_type": "code",
   "execution_count": 96,
   "metadata": {},
   "outputs": [],
   "source": [
    "def preprocess_review(review):\n",
    "    review = denoise_text(review)\n",
    "    review = remove_special_characters(review)\n",
    "    review = lemmatize_text(review)\n",
    "    review = remove_stopwords(review)\n",
    "    return review\n",
    "\n",
    "def predict_sentiment(review, model, vectorizer):\n",
    "    # Praproses review pengguna\n",
    "    review = preprocess_review(review)\n",
    "    \n",
    "    # Transformasikan review pengguna menggunakan vectorizer\n",
    "    review_vector = vectorizer.transform([review])\n",
    "    \n",
    "    # Prediksi sentimen menggunakan model yang telah dilatih\n",
    "    sentiment = model.predict(review_vector)\n",
    "    \n",
    "    # Kembalikan hasil prediksi\n",
    "    return sentiment"
   ]
  },
  {
   "cell_type": "code",
   "execution_count": 97,
   "metadata": {},
   "outputs": [
    {
     "name": "stdout",
     "output_type": "stream",
     "text": [
      "Prediksi Sentimen (TF-IDF): [0]\n"
     ]
    }
   ],
   "source": [
    "# Review contoh dari pengguna\n",
    "user_review = \"So boring and too long. I will never watch this movie again.\"\n",
    "\n",
    "# Prediksi menggunakan model TF-IDF\n",
    "predicted_sentiment_tfidf = predict_sentiment(user_review, model_tfidf, tv)\n",
    "print(f'Prediksi Sentimen (TF-IDF): {predicted_sentiment_tfidf}')"
   ]
  },
  {
   "cell_type": "markdown",
   "metadata": {},
   "source": [
    "# TWITTER"
   ]
  },
  {
   "cell_type": "code",
   "execution_count": null,
   "metadata": {},
   "outputs": [],
   "source": [
    "import tweepy\n",
    "\n",
    "# Masukkan kunci dan token API Twitter Anda\n",
    "api_key = \"LHTTHtP3FnALVIwjPHnagUB4T\"\n",
    "api_key_secret = \"6dAGvU4o0aeu2fmTlXqzG9VTzNRD2dZKfbzt12x5ZCZPMuZJNI\"\n",
    "access_token = \"1426060555853303810-JYn6p9TpRhwliryX39IozAc8WFg41v\"\n",
    "access_token_secret = \"ok5JHdz2gXiF5YZetiKc3wUQHO6Asd2QJ2AffLPNEseT4\"\n",
    "bearer_token = \"AAAAAAAAAAAAAAAAAAAAAEApigEAAAAAyT1ss8QtOmbKsbwePVusZt9u8pg%3DslkoL8lW5VOdMQnFKJH0Qi1JXk4D82s4nf9Do5EQdw10XTRQMQ\"\n",
    "\n",
    "# Autentikasi dengan Twitter API\n",
    "# auth = tweepy.OAuth1UserHandler(api_key, api_key_secret, access_token, access_token_secret)\n",
    "auth = tweepy.OAuth2AppHandler(\n",
    "    api_key, api_key_secret\n",
    ")\n",
    "api = tweepy.API(auth)\n",
    "\n",
    "# Kumpulkan tweet terkait film\n",
    "query = \"hit man\"  # Ganti dengan nama film yang Anda inginkan\n",
    "tweets = api.search_tweets(query, count=100, lang='en')\n",
    "\n",
    "tweet_data = []\n",
    "for tweet in tweets:\n",
    "    tweet_data.append(tweet.text)\n",
    "\n",
    "# Konversi tweet menjadi DataFrame\n",
    "new_tweets_df = pd.DataFrame(tweet_data, columns=['review'])"
   ]
  },
  {
   "cell_type": "code",
   "execution_count": 3,
   "metadata": {},
   "outputs": [],
   "source": [
    "# Praproses data\n",
    "new_tweets_df['review'] = new_tweets_df['review'].apply(denoise_text)\n",
    "new_tweets_df['review'] = new_tweets_df['review'].apply(remove_special_characters)\n",
    "new_tweets_df['review'] = new_tweets_df['review'].apply(simple_stemmer)\n",
    "new_tweets_df['review'] = new_tweets_df['review'].apply(remove_stopwords)"
   ]
  },
  {
   "cell_type": "code",
   "execution_count": null,
   "metadata": {},
   "outputs": [],
   "source": [
    "# Transformasi tweet baru menggunakan model TF-IDF\n",
    "new_tweets_tfidf = tv.transform(new_tweets_df['review'])\n",
    "\n",
    "# Prediksi sentimen menggunakan model TF-IDF\n",
    "new_tweets_predictions = model_tfidf.predict(new_tweets_tfidf)\n",
    "\n",
    "# Konversi prediksi menjadi label\n",
    "new_tweets_df['sentiment'] = lb.inverse_transform(new_tweets_predictions)\n",
    "\n",
    "print(new_tweets_df.head())"
   ]
  }
 ],
 "metadata": {
  "kernelspec": {
   "display_name": ".venv",
   "language": "python",
   "name": "python3"
  },
  "language_info": {
   "codemirror_mode": {
    "name": "ipython",
    "version": 3
   },
   "file_extension": ".py",
   "mimetype": "text/x-python",
   "name": "python",
   "nbconvert_exporter": "python",
   "pygments_lexer": "ipython3",
   "version": "3.10.11"
  }
 },
 "nbformat": 4,
 "nbformat_minor": 2
}
